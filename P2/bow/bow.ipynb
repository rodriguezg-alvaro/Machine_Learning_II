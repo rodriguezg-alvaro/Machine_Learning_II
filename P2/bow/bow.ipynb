{
 "cells": [
  {
   "cell_type": "markdown",
   "metadata": {},
   "source": [
    "# Lab 1. Bag of Words (BoW)"
   ]
  },
  {
   "cell_type": "markdown",
   "metadata": {},
   "source": [
    "### Import libraries"
   ]
  },
  {
   "cell_type": "code",
   "execution_count": 1,
   "metadata": {},
   "outputs": [],
   "source": [
    "from typing import List\n",
    "\n",
    "from bow import BoW\n",
    "from dataset import Dataset\n",
    "from image_classifier import ImageClassifier\n",
    "import time"
   ]
  },
  {
   "cell_type": "markdown",
   "metadata": {},
   "source": [
    "### Load helper functions"
   ]
  },
  {
   "cell_type": "code",
   "execution_count": 13,
   "metadata": {},
   "outputs": [],
   "source": [
    "def build_vocabulary(dataset: List[str], vocabulary: str = 'vocabulary', size: int = 300, feature_type: str = 'SIFT',  iterations: int = 20):\n",
    "    \"\"\"Build a vocabulary.\n",
    "\n",
    "    Args:\n",
    "        dataset: Paths to the training images.\n",
    "        vocabulary: Relative path to the file (without extension) where the vocabulary will be saved.\n",
    "        feature_type: Feature extractor { SIFT, KAZE, AKAZE }.\n",
    "        size: Number of words in the vocabulary.\n",
    "        iterations: Maximum number of K-means iterations.\n",
    "\n",
    "    \"\"\"\n",
    "    bow = BoW()\n",
    "    bow.build_vocabulary(dataset, feature_type=feature_type, vocabulary_size=size, iterations=iterations)\n",
    "    bow.save_vocabulary(vocabulary)\n",
    "\n",
    "def train_classifier(dataset: List[str], vocabulary: str = 'vocabulary', iterations: int = 100, classifier: str = 'classifier'):\n",
    "    \"\"\"Train an SVM classifier.\n",
    "\n",
    "    Args:\n",
    "        dataset: Paths to the training images.\n",
    "        vocabulary: Relative path to the vocabulary file (without extension).\n",
    "        classifier: Relative path to the file (without extension) where the classifier will be saved.\n",
    "        iterations: Maximum number of SVM iterations.\n",
    "\n",
    "    \"\"\"\n",
    "    bow = BoW()\n",
    "    bow.load_vocabulary(vocabulary)\n",
    "\n",
    "    image_classifier = ImageClassifier(bow)\n",
    "    image_classifier.train(dataset, iterations=iterations)\n",
    "    image_classifier.save(classifier)\n",
    "\n",
    "def predict(dataset: List[str], dataset_name: str = \"\", vocabulary: str = 'vocabulary', classifier: str = 'classifier'):\n",
    "    \"\"\"Perform inference on a dataset.\n",
    "\n",
    "    Args:\n",
    "        dataset: Paths to the images.\n",
    "        dataset_name: Dataset descriptive name.\n",
    "        vocabulary: Relative path to the vocabulary file (without extension).\n",
    "        classifier: Relative path to the classifier file (without extension).\n",
    "\n",
    "    \"\"\"\n",
    "    bow = BoW()\n",
    "    bow.load_vocabulary(vocabulary)\n",
    "\n",
    "    image_classifier = ImageClassifier(bow)\n",
    "    image_classifier.load(classifier)\n",
    "    image_classifier.predict(dataset, dataset_name=dataset_name)"
   ]
  },
  {
   "cell_type": "markdown",
   "metadata": {},
   "source": [
    "### Load datasets"
   ]
  },
  {
   "cell_type": "code",
   "execution_count": 3,
   "metadata": {},
   "outputs": [],
   "source": [
    "training_set = Dataset.load('../dataset/training', '*.jpg')\n",
    "validation_set = Dataset.load('../dataset/validation', '*.jpg')"
   ]
  },
  {
   "cell_type": "markdown",
   "metadata": {},
   "source": [
    "### Build vocabulary and train a SVM classifier"
   ]
  },
  {
   "cell_type": "code",
   "execution_count": null,
   "metadata": {},
   "outputs": [],
   "source": [
    "build_vocabulary(training_set)\n",
    "train_classifier(training_set)"
   ]
  },
  {
   "cell_type": "markdown",
   "metadata": {},
   "source": [
    "### Perform inference on the training set"
   ]
  },
  {
   "cell_type": "code",
   "execution_count": null,
   "metadata": {},
   "outputs": [],
   "source": [
    "predict(training_set, \"Training\")"
   ]
  },
  {
   "cell_type": "markdown",
   "metadata": {},
   "source": [
    "### Perform inference on the validation set"
   ]
  },
  {
   "cell_type": "code",
   "execution_count": null,
   "metadata": {},
   "outputs": [],
   "source": [
    "predict(validation_set, \"Validation\")"
   ]
  },
  {
   "cell_type": "markdown",
   "metadata": {},
   "source": [
    "# Mejora del accuracy"
   ]
  },
  {
   "cell_type": "code",
   "execution_count": null,
   "metadata": {},
   "outputs": [],
   "source": [
    "for i in range(100, 350, 50):\n",
    "    print(i)\n",
    "    build_vocabulary(training_set, \"vocabulary\")\n",
    "    train_classifier(training_set, \"vocabulary\", i)\n",
    "    predict(training_set, \"Training\")\n",
    "    predict(validation_set, \"Validation\")"
   ]
  },
  {
   "cell_type": "markdown",
   "metadata": {},
   "source": [
    "Vemos que el mejor valor del accuracy es con 300 y por eso lo cogemos"
   ]
  },
  {
   "cell_type": "code",
   "execution_count": 16,
   "metadata": {},
   "outputs": [
    {
     "name": "stdout",
     "output_type": "stream",
     "text": [
      "\n",
      "BUILDING DICTIONARY\n",
      "\n",
      "Computing SIFT descriptors...\n",
      "100%|███████████████████████████████████████████████████████████████████████████| 2985/2985 [01:18<00:00, 38.22image/s]\n",
      "\n",
      "Clustering descriptors into 350 words using K-means...\n",
      "\n",
      "\n",
      "TRAINING CLASSIFIER\n",
      "\n",
      "Extracting features...\n",
      "100%|███████████████████████████████████████████████████████████████████████████| 2985/2985 [02:14<00:00, 22.15image/s]\n",
      "\n",
      "Training SVM...\n",
      "Tiempo empleado en construir y entrenar el modelo --- 622.8336343765259 seconds ---\n",
      "\n",
      "\n",
      "CLASSIFICATION RESULTS (TRAINING)\n",
      "\n",
      "Confusion matrix\n",
      "\n",
      "KNOWN/PREDICTED  Bedroom  Coast  Forest  Highway  Industrial  Inside city  Kitchen  Living room  Mountain  Office  Open country  Store  Street  Suburb  Tall building\n",
      "Bedroom             77.0    0.0     1.0      0.0         6.0          2.0      1.0         18.0       2.0     2.0           0.0    5.0     1.0     0.0            1.0\n",
      "Coast                0.0  207.0     3.0      0.0         0.0          0.0      0.0          0.0       6.0     0.0          44.0    0.0     0.0     0.0            0.0\n",
      "Forest               0.0    0.0   222.0      0.0         0.0          0.0      0.0          0.0       3.0     0.0           3.0    0.0     0.0     0.0            0.0\n",
      "Highway              0.0    3.0     0.0    138.0         3.0          1.0      0.0          0.0       1.0     0.0           4.0    2.0     2.0     0.0            6.0\n",
      "Industrial           3.0    2.0     0.0      1.0       151.0          8.0      3.0          4.0       1.0     1.0           0.0   20.0     9.0     2.0            6.0\n",
      "Inside city          1.0    0.0     0.0      1.0         8.0        175.0      0.0          5.0       0.0     0.0           2.0    7.0     3.0     0.0            6.0\n",
      "Kitchen              1.0    0.0     0.0      1.0         9.0          6.0     70.0         11.0       0.0     2.0           0.0    6.0     1.0     2.0            1.0\n",
      "Living room          2.0    0.0     0.0      0.0         8.0          2.0      2.0        159.0       1.0     4.0           0.0    7.0     1.0     2.0            1.0\n",
      "Mountain             0.0    5.0     9.0      0.0         0.0          0.0      0.0          0.0     245.0     0.0          15.0    0.0     0.0     0.0            0.0\n",
      "Office               0.0    0.0     0.0      0.0         2.0          0.0      1.0          5.0       0.0   106.0           0.0    0.0     0.0     1.0            0.0\n",
      "Open country         0.0   16.0    10.0      3.0         1.0          0.0      0.0          0.0      15.0     0.0         262.0    0.0     0.0     1.0            2.0\n",
      "Store                1.0    2.0     2.0      0.0         5.0          3.0      2.0          0.0       0.0     1.0           1.0  187.0     7.0     1.0            3.0\n",
      "Street               0.0    0.0     0.0      1.0         7.0          6.0      1.0          0.0       0.0     0.0           1.0   12.0   161.0     0.0            3.0\n",
      "Suburb               0.0    1.0     1.0      0.0         1.0          0.0      0.0          4.0       1.0     0.0           0.0    0.0     0.0   133.0            0.0\n",
      "Tall building        0.0    1.0     0.0      2.0         5.0          9.0      1.0          3.0       1.0     0.0           3.0    5.0     6.0     0.0          220.0\n",
      "\n",
      "Accuracy:  0.8418760469011726\n",
      "\n",
      "\n",
      "CLASSIFICATION RESULTS (VALIDATION)\n",
      "\n",
      "Confusion matrix\n",
      "\n",
      "KNOWN/PREDICTED  Bedroom  Coast  Forest  Highway  Industrial  Inside city  Kitchen  Living room  Mountain  Office  Open country  Store  Street  Suburb  Tall building\n",
      "Bedroom             21.0    1.0     0.0      1.0         7.0          5.0      7.0         32.0       0.0     6.0           1.0   12.0     3.0     0.0            4.0\n",
      "Coast                0.0   50.0     2.0      5.0         2.0          0.0      0.0          2.0      13.0     0.0          22.0    0.0     1.0     1.0            2.0\n",
      "Forest               0.0    0.0    84.0      0.0         0.0          0.0      0.0          0.0       6.0     0.0           9.0    0.0     0.0     1.0            0.0\n",
      "Highway              0.0   22.0     0.0     46.0         7.0          9.0      1.0          0.0       3.0     0.0           4.0    0.0     4.0     1.0            3.0\n",
      "Industrial           4.0    0.0     0.0      3.0        43.0         12.0      2.0          5.0       0.0     0.0           1.0   11.0     9.0     4.0            6.0\n",
      "Inside city          4.0    0.0     0.0      1.0         7.0         59.0      1.0          6.0       0.0     5.0           1.0    5.0     5.0     0.0            6.0\n",
      "Kitchen              7.0    1.0     0.0      0.0         5.0         11.0     18.0         30.0       0.0    16.0           0.0    8.0     0.0     3.0            1.0\n",
      "Living room          6.0    0.0     0.0      1.0        11.0          3.0      9.0         47.0       1.0     9.0           0.0    8.0     1.0     1.0            3.0\n",
      "Mountain             0.0    5.0     7.0      0.0         0.0          0.0      0.0          0.0      74.0     0.0          11.0    0.0     1.0     2.0            0.0\n",
      "Office               4.0    0.0     0.0      0.0         8.0          7.0      7.0         26.0       0.0    43.0           0.0    4.0     1.0     0.0            0.0\n",
      "Open country         0.0   19.0     6.0      3.0         1.0          0.0      0.0          0.0      16.0     0.0          52.0    2.0     1.0     0.0            0.0\n",
      "Store                2.0    0.0     3.0      1.0         6.0          7.0      1.0          5.0       1.0     4.0           0.0   62.0     4.0     3.0            1.0\n",
      "Street               2.0    1.0     1.0      1.0         6.0          8.0      0.0          3.0       2.0     0.0           1.0    7.0    58.0     0.0           10.0\n",
      "Suburb               0.0    0.0     3.0      0.0         2.0          0.0      0.0          6.0       2.0     0.0           1.0    3.0     0.0    81.0            2.0\n",
      "Tall building        3.0    3.0     0.0      8.0         7.0          7.0      2.0          2.0       0.0     1.0           2.0    5.0     5.0     0.0           55.0\n",
      "\n",
      "Accuracy:  0.5286666666666666\n",
      "Tiempo total en obtener el resultado 814.9210894107819 seconds ---\n"
     ]
    }
   ],
   "source": [
    "start_time = time.time()\n",
    "build_vocabulary(training_set, \"vocabulary\", 350)\n",
    "train_classifier(training_set, \"vocabulary\", 300)\n",
    "print(\"Tiempo empleado en construir y entrenar el modelo --- %s seconds ---\" % (time.time() - start_time))\n",
    "predict(training_set, \"Training\")\n",
    "predict(validation_set, \"Validation\")\n",
    "print(\"Tiempo total en obtener el resultado %s seconds ---\" % (time.time() - start_time))"
   ]
  },
  {
   "cell_type": "code",
   "execution_count": null,
   "metadata": {},
   "outputs": [],
   "source": []
  }
 ],
 "metadata": {
  "file_extension": ".py",
  "kernelspec": {
   "display_name": "Python 3 (ipykernel)",
   "language": "python",
   "name": "python3"
  },
  "language_info": {
   "codemirror_mode": {
    "name": "ipython",
    "version": 3
   },
   "file_extension": ".py",
   "mimetype": "text/x-python",
   "name": "python",
   "nbconvert_exporter": "python",
   "pygments_lexer": "ipython3",
   "version": "3.9.7"
  },
  "mimetype": "text/x-python",
  "name": "python",
  "npconvert_exporter": "python",
  "pygments_lexer": "ipython3",
  "version": 3
 },
 "nbformat": 4,
 "nbformat_minor": 2
}
