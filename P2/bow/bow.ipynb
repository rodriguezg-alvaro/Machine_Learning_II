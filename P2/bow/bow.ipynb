{
 "cells": [
  {
   "cell_type": "markdown",
   "metadata": {},
   "source": [
    "# Lab 1. Bag of Words (BoW)"
   ]
  },
  {
   "cell_type": "markdown",
   "metadata": {},
   "source": [
    "### Import libraries"
   ]
  },
  {
   "cell_type": "code",
   "execution_count": 1,
   "metadata": {},
   "outputs": [],
   "source": [
    "from typing import List\n",
    "\n",
    "from bow import BoW\n",
    "from dataset import Dataset\n",
    "from image_classifier import ImageClassifier"
   ]
  },
  {
   "cell_type": "markdown",
   "metadata": {},
   "source": [
    "### Load helper functions"
   ]
  },
  {
   "cell_type": "code",
   "execution_count": 2,
   "metadata": {},
   "outputs": [],
   "source": [
    "def build_vocabulary(dataset: List[str], vocabulary: str = 'vocabulary', size: int = 100, feature_type: str = 'SIFT',  iterations: int = 20):\n",
    "    \"\"\"Build a vocabulary.\n",
    "\n",
    "    Args:\n",
    "        dataset: Paths to the training images.\n",
    "        vocabulary: Relative path to the file (without extension) where the vocabulary will be saved.\n",
    "        feature_type: Feature extractor { SIFT, KAZE, AKAZE }.\n",
    "        size: Number of words in the vocabulary.\n",
    "        iterations: Maximum number of K-means iterations.\n",
    "\n",
    "    \"\"\"\n",
    "    bow = BoW()\n",
    "    bow.build_vocabulary(dataset, feature_type=feature_type, vocabulary_size=size, iterations=iterations)\n",
    "    bow.save_vocabulary(vocabulary)\n",
    "\n",
    "def train_classifier(dataset: List[str], vocabulary: str = 'vocabulary', classifier: str = 'classifier', iterations: int = 100):\n",
    "    \"\"\"Train an SVM classifier.\n",
    "\n",
    "    Args:\n",
    "        dataset: Paths to the training images.\n",
    "        vocabulary: Relative path to the vocabulary file (without extension).\n",
    "        classifier: Relative path to the file (without extension) where the classifier will be saved.\n",
    "        iterations: Maximum number of SVM iterations.\n",
    "\n",
    "    \"\"\"\n",
    "    bow = BoW()\n",
    "    bow.load_vocabulary(vocabulary)\n",
    "\n",
    "    image_classifier = ImageClassifier(bow)\n",
    "    image_classifier.train(dataset, iterations=iterations)\n",
    "    image_classifier.save(classifier)\n",
    "\n",
    "def predict(dataset: List[str], dataset_name: str = \"\", vocabulary: str = 'vocabulary', classifier: str = 'classifier'):\n",
    "    \"\"\"Perform inference on a dataset.\n",
    "\n",
    "    Args:\n",
    "        dataset: Paths to the images.\n",
    "        dataset_name: Dataset descriptive name.\n",
    "        vocabulary: Relative path to the vocabulary file (without extension).\n",
    "        classifier: Relative path to the classifier file (without extension).\n",
    "\n",
    "    \"\"\"\n",
    "    bow = BoW()\n",
    "    bow.load_vocabulary(vocabulary)\n",
    "\n",
    "    image_classifier = ImageClassifier(bow)\n",
    "    image_classifier.load(classifier)\n",
    "    image_classifier.predict(dataset, dataset_name=dataset_name)"
   ]
  },
  {
   "cell_type": "markdown",
   "metadata": {},
   "source": [
    "### Load datasets"
   ]
  },
  {
   "cell_type": "code",
   "execution_count": 3,
   "metadata": {},
   "outputs": [],
   "source": [
    "training_set = Dataset.load('../dataset/training', '*.jpg')\n",
    "validation_set = Dataset.load('../dataset/validation', '*.jpg')"
   ]
  },
  {
   "cell_type": "markdown",
   "metadata": {},
   "source": [
    "### Build vocabulary and train a SVM classifier"
   ]
  },
  {
   "cell_type": "code",
   "execution_count": null,
   "metadata": {},
   "outputs": [],
   "source": [
    "build_vocabulary(training_set)\n",
    "train_classifier(training_set)"
   ]
  },
  {
   "cell_type": "markdown",
   "metadata": {},
   "source": [
    "### Perform inference on the training set"
   ]
  },
  {
   "cell_type": "code",
   "execution_count": null,
   "metadata": {},
   "outputs": [],
   "source": [
    "predict(training_set, \"Training\")"
   ]
  },
  {
   "cell_type": "markdown",
   "metadata": {},
   "source": [
    "### Perform inference on the validation set"
   ]
  },
  {
   "cell_type": "code",
   "execution_count": null,
   "metadata": {},
   "outputs": [],
   "source": [
    "predict(validation_set, \"Validation\")"
   ]
  },
  {
   "cell_type": "markdown",
   "metadata": {},
   "source": [
    "# Mejora del accuracy"
   ]
  },
  {
   "cell_type": "code",
   "execution_count": null,
   "metadata": {},
   "outputs": [
    {
     "name": "stdout",
     "output_type": "stream",
     "text": [
      "250\n",
      "\n",
      "BUILDING DICTIONARY\n",
      "\n",
      "Computing SIFT descriptors...\n",
      "100%|████████████████████████████████████| 2985/2985 [01:30<00:00, 32.84image/s]\n",
      "\n",
      "Clustering descriptors into 250 words using K-means...\n",
      "\n",
      "\n",
      "TRAINING CLASSIFIER\n",
      "\n",
      "Extracting features...\n",
      "100%|████████████████████████████████████| 2985/2985 [02:43<00:00, 18.27image/s]\n",
      "\n",
      "Training SVM...\n",
      "\n",
      "\n",
      "CLASSIFICATION RESULTS (TRAINING)\n",
      "\n",
      "Confusion matrix\n",
      "\n",
      "KNOWN/PREDICTED  Bedroom  Coast  Forest  Highway  Industrial  Inside city  Kitchen  Living room  Mountain  Office  Open country  Store  Street  Suburb  Tall building\n",
      "Bedroom             81.0    0.0     0.0      0.0         2.0          0.0      1.0         18.0       1.0     3.0           0.0    5.0     1.0     1.0            3.0\n",
      "Coast                4.0  159.0     5.0     23.0         0.0          0.0      0.0          0.0      28.0     0.0          33.0    0.0     1.0     3.0            4.0\n",
      "Forest               0.0    0.0   225.0      0.0         0.0          0.0      0.0          0.0       0.0     0.0           3.0    0.0     0.0     0.0            0.0\n",
      "Highway              1.0   11.0     1.0    129.0         0.0          3.0      0.0          0.0       1.0     0.0           2.0    1.0     2.0     1.0            8.0\n",
      "Industrial           0.0    1.0     0.0      5.0       136.0         11.0      3.0          8.0       1.0     4.0           2.0   11.0    19.0     3.0            7.0\n",
      "Inside city          4.0    0.0     0.0      1.0        15.0        165.0      0.0          4.0       0.0     1.0           0.0    3.0     6.0     0.0            9.0\n",
      "Kitchen              4.0    0.0     0.0      0.0         2.0          4.0     82.0          6.0       0.0     6.0           0.0    4.0     0.0     1.0            1.0\n",
      "Living room          6.0    0.0     0.0      0.0         5.0          7.0      7.0        147.0       1.0     5.0           0.0    6.0     3.0     1.0            1.0\n",
      "Mountain             2.0   10.0    18.0      2.0         0.0          0.0      0.0          0.0     213.0     0.0          27.0    0.0     0.0     2.0            0.0\n",
      "Office               0.0    0.0     0.0      0.0         1.0          1.0      2.0          8.0       0.0   101.0           0.0    1.0     0.0     1.0            0.0\n",
      "Open country         1.0   63.0    30.0      8.0         0.0          1.0      0.0          2.0      70.0     0.0         133.0    0.0     0.0     1.0            1.0\n",
      "Store                2.0    1.0     2.0      1.0         6.0          5.0      3.0          5.0       1.0     1.0           0.0  177.0     9.0     0.0            2.0\n",
      "Street               3.0    0.0     0.0      3.0         6.0          7.0      2.0          2.0       2.0     0.0           1.0    8.0   149.0     0.0            9.0\n",
      "Suburb               1.0    0.0     2.0      2.0         2.0          0.0      0.0          0.0       0.0     0.0           1.0    1.0     1.0   131.0            0.0\n",
      "Tall building        0.0    4.0     0.0      1.0        17.0         14.0      2.0          6.0       3.0     0.0           4.0    6.0    11.0     2.0          186.0\n",
      "\n",
      "Accuracy:  0.7417085427135678\n"
     ]
    }
   ],
   "source": [
    "for i in range(250, 400, 50):\n",
    "    print(i)\n",
    "    build_vocabulary(training_set, \"vocabulary\", i)\n",
    "    train_classifier(training_set)\n",
    "    predict(training_set, \"Training\")\n",
    "    predict(validation_set, \"Validation\")"
   ]
  },
  {
   "cell_type": "markdown",
   "metadata": {},
   "source": [
    "Vemos que el mejor valor del accuracy es con 300 y por eso lo cogemos"
   ]
  },
  {
   "cell_type": "code",
   "execution_count": 5,
   "metadata": {},
   "outputs": [
    {
     "name": "stdout",
     "output_type": "stream",
     "text": [
      "\n",
      "BUILDING DICTIONARY\n",
      "\n",
      "Computing SIFT descriptors...\n",
      "100%|████████████████████████████████████| 2985/2985 [02:33<00:00, 19.48image/s]\n",
      "\n",
      "Clustering descriptors into 300 words using K-means...\n",
      "\n",
      "\n",
      "TRAINING CLASSIFIER\n",
      "\n",
      "Extracting features...\n",
      "100%|████████████████████████████████████| 2985/2985 [03:03<00:00, 16.25image/s]\n",
      "\n",
      "Training SVM...\n",
      "\n",
      "\n",
      "CLASSIFICATION RESULTS (TRAINING)\n",
      "\n",
      "Confusion matrix\n",
      "\n",
      "KNOWN/PREDICTED  Bedroom  Coast  Forest  Highway  Industrial  Inside city  Kitchen  Living room  Mountain  Office  Open country  Store  Street  Suburb  Tall building\n",
      "Bedroom             46.0    3.0     1.0      0.0        10.0          6.0      0.0         20.0       3.0     3.0           8.0   10.0     3.0     1.0            2.0\n",
      "Coast                0.0  202.0     9.0     10.0         0.0          1.0      0.0          0.0      15.0     1.0          17.0    0.0     1.0     1.0            3.0\n",
      "Forest               0.0    0.0   211.0      0.0         1.0          0.0      0.0          0.0       6.0     0.0           9.0    1.0     0.0     0.0            0.0\n",
      "Highway              0.0   26.0     0.0     85.0         7.0          4.0      0.0          2.0      11.0     0.0           7.0    1.0     7.0     3.0            7.0\n",
      "Industrial           3.0    6.0     1.0      3.0       122.0         12.0      1.0         13.0       7.0     0.0           6.0   13.0    11.0     3.0           10.0\n",
      "Inside city          3.0    3.0     0.0      2.0        10.0        151.0      0.0          7.0       0.0     1.0           3.0   12.0     4.0     1.0           11.0\n",
      "Kitchen              6.0    1.0     0.0      0.0        16.0         22.0     17.0         25.0       0.0    10.0           1.0    8.0     2.0     1.0            1.0\n",
      "Living room          8.0    1.0     1.0      0.0        10.0          7.0      1.0        125.0       1.0     5.0           1.0   11.0     4.0     6.0            8.0\n",
      "Mountain             0.0   23.0    12.0      0.0         0.0          0.0      0.0          1.0     227.0     0.0          10.0    0.0     1.0     0.0            0.0\n",
      "Office               7.0    1.0     0.0      0.0         8.0         13.0      0.0         26.0       0.0    52.0           0.0    2.0     3.0     2.0            1.0\n",
      "Open country         0.0   63.0    23.0      1.0         1.0          0.0      0.0          1.0      25.0     0.0         189.0    0.0     0.0     5.0            2.0\n",
      "Store                1.0    1.0     4.0      0.0        12.0          8.0      0.0          9.0       2.0     1.0           2.0  158.0    11.0     1.0            5.0\n",
      "Street               0.0    2.0     0.0      1.0        19.0          9.0      0.0          8.0       5.0     0.0           3.0    9.0   121.0     0.0           15.0\n",
      "Suburb               0.0    1.0     4.0      2.0         3.0          1.0      0.0          5.0       7.0     0.0           4.0    2.0     0.0   111.0            1.0\n",
      "Tall building        0.0    8.0     1.0      6.0        11.0         15.0      0.0          9.0       3.0     0.0           5.0    3.0     6.0     5.0          184.0\n",
      "\n",
      "Accuracy:  0.6703517587939698\n",
      "\n",
      "\n",
      "CLASSIFICATION RESULTS (VALIDATION)\n",
      "\n",
      "Confusion matrix\n",
      "\n",
      "KNOWN/PREDICTED  Bedroom  Coast  Forest  Highway  Industrial  Inside city  Kitchen  Living room  Mountain  Office  Open country  Store  Street  Suburb  Tall building\n",
      "Bedroom             23.0    4.0     2.0      0.0         9.0          6.0      0.0         29.0       1.0     7.0           2.0   10.0     1.0     1.0            5.0\n",
      "Coast                2.0   66.0     2.0      6.0         1.0          1.0      0.0          0.0      11.0     0.0          11.0    0.0     0.0     0.0            0.0\n",
      "Forest               0.0    0.0    88.0      0.0         0.0          0.0      0.0          0.0       6.0     0.0           6.0    0.0     0.0     0.0            0.0\n",
      "Highway              0.0   27.0     0.0     37.0         6.0          6.0      0.0          2.0       8.0     0.0           2.0    1.0     5.0     2.0            4.0\n",
      "Industrial           4.0    5.0     0.0      1.0        43.0         10.0      0.0          6.0       2.0     1.0           3.0   11.0     7.0     1.0            6.0\n",
      "Inside city          1.0    0.0     0.0      2.0         8.0         59.0      0.0          3.0       1.0     3.0           1.0    6.0     6.0     0.0           10.0\n",
      "Kitchen             12.0    1.0     0.0      1.0         4.0         17.0      8.0         33.0       0.0     9.0           0.0    9.0     2.0     2.0            2.0\n",
      "Living room          6.0    2.0     0.0      0.0         8.0          4.0      2.0         54.0       1.0     7.0           0.0    8.0     2.0     1.0            5.0\n",
      "Mountain             0.0   10.0     7.0      0.0         0.0          0.0      0.0          0.0      73.0     0.0           6.0    0.0     3.0     1.0            0.0\n",
      "Office               7.0    0.0     0.0      0.0         5.0         20.0      1.0         33.0       1.0    27.0           0.0    1.0     3.0     2.0            0.0\n",
      "Open country         0.0   24.0     5.0      2.0         4.0          0.0      0.0          0.0      19.0     0.0          45.0    0.0     1.0     0.0            0.0\n",
      "Store                0.0    0.0     3.0      0.0         9.0         10.0      0.0          7.0       2.0     1.0           0.0   58.0     8.0     1.0            1.0\n",
      "Street               0.0    4.0     1.0      0.0        11.0          7.0      0.0          2.0       4.0     0.0           1.0    8.0    48.0     1.0           13.0\n",
      "Suburb               0.0    0.0     8.0      0.0         3.0          1.0      0.0          5.0       3.0     0.0           6.0    3.0     0.0    70.0            1.0\n",
      "Tall building        1.0    8.0     1.0      4.0         3.0          6.0      0.0          3.0       1.0     0.0           1.0    1.0     4.0     2.0           65.0\n",
      "\n",
      "Accuracy:  0.5093333333333333\n"
     ]
    }
   ],
   "source": [
    "build_vocabulary(training_set, \"vocabulary\", 300)\n",
    "train_classifier(training_set)\n",
    "predict(training_set, \"Training\")\n",
    "predict(validation_set, \"Validation\")"
   ]
  }
 ],
 "metadata": {
  "file_extension": ".py",
  "kernelspec": {
   "display_name": "Python 3 (ipykernel)",
   "language": "python",
   "name": "python3"
  },
  "language_info": {
   "codemirror_mode": {
    "name": "ipython",
    "version": 3
   },
   "file_extension": ".py",
   "mimetype": "text/x-python",
   "name": "python",
   "nbconvert_exporter": "python",
   "pygments_lexer": "ipython3",
   "version": "3.10.2"
  },
  "mimetype": "text/x-python",
  "name": "python",
  "npconvert_exporter": "python",
  "pygments_lexer": "ipython3",
  "version": 3
 },
 "nbformat": 4,
 "nbformat_minor": 2
}
